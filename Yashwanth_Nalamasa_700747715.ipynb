{
 "cells": [
  {
   "cell_type": "code",
   "execution_count": null,
   "id": "62b10c47",
   "metadata": {},
   "outputs": [],
   "source": [
    "x = input(\"Enter a String: \")\n",
    "y=x.replace(\"ho\",\"\")[::-1]\n",
    "print(y)"
   ]
  },
  {
   "cell_type": "code",
   "execution_count": null,
   "id": "dfcb10cb",
   "metadata": {},
   "outputs": [],
   "source": [
    "a = int(input())\n",
    "b = int(input())\n",
    "print(a+b)\n",
    "print(a-b)\n",
    "print(a*b)\n",
    "print(a/b)"
   ]
  },
  {
   "cell_type": "code",
   "execution_count": 24,
   "id": "440f581f",
   "metadata": {},
   "outputs": [
    {
     "name": "stdout",
     "output_type": "stream",
     "text": [
      "Enter a String:i love playing with python\n",
      "i love playing with pythons\n"
     ]
    }
   ],
   "source": [
    "z = input(\"Enter a String:\")\n",
    "t = z.replace(\"python\", \"pythons\")\n",
    "print(t)\n"
   ]
  },
  {
   "cell_type": "code",
   "execution_count": 25,
   "id": "9e3d0a42",
   "metadata": {},
   "outputs": [
    {
     "name": "stdout",
     "output_type": "stream",
     "text": [
      "Enter grade that has to be less than 100:90\n",
      "B\n"
     ]
    }
   ],
   "source": [
    "grade = int(input(\"Enter grade that has to be less than 100:\"))\n",
    "if(grade>90 & grade <= 100):\n",
    "    print(\"A\")\n",
    "elif(grade>80 & grade<=90):\n",
    "    print(\"B\")\n",
    "elif(grade>70& grade<=80):\n",
    "    print(\"C\")\n",
    "elif(grade>60 & grade<70):\n",
    "    print(\"D\")\n",
    "elif(grade<=60):\n",
    "    print(\"fail\")\n",
    "else:\n",
    "    print(\"Number should be less than 100\")"
   ]
  },
  {
   "cell_type": "code",
   "execution_count": null,
   "id": "602da317",
   "metadata": {},
   "outputs": [],
   "source": []
  }
 ],
 "metadata": {
  "kernelspec": {
   "display_name": "Python 3 (ipykernel)",
   "language": "python",
   "name": "python3"
  },
  "language_info": {
   "codemirror_mode": {
    "name": "ipython",
    "version": 3
   },
   "file_extension": ".py",
   "mimetype": "text/x-python",
   "name": "python",
   "nbconvert_exporter": "python",
   "pygments_lexer": "ipython3",
   "version": "3.10.9"
  }
 },
 "nbformat": 4,
 "nbformat_minor": 5
}
